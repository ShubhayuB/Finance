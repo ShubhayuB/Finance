{
 "cells": [
  {
   "cell_type": "code",
   "execution_count": 47,
   "id": "b29d98e6",
   "metadata": {},
   "outputs": [],
   "source": [
    "import pandas_datareader as web\n",
    "import pandas as pd\n",
    "import yfinance as yf\n",
    "import numpy as np\n",
    "from datetime import datetime as dt\n",
    "import scipy.stats as st\n",
    "import matplotlib.pyplot as plt\n"
   ]
  },
  {
   "cell_type": "code",
   "execution_count": 48,
   "id": "7a968046",
   "metadata": {},
   "outputs": [],
   "source": [
    "# Portfolio Of Stocks & the corresponding stocks in the portfolio\n",
    "tickers = ['RAJESHEXPO.NS']\n",
    "stocks = [1]"
   ]
  },
  {
   "cell_type": "code",
   "execution_count": 49,
   "id": "6b1e8bf5",
   "metadata": {},
   "outputs": [],
   "source": [
    "# Download closing prices\n",
    "df=pd.DataFrame()\n",
    "for i in tickers:\n",
    "  tick=yf.Ticker(i)\n",
    "  old  = tick.history(start=\"2023-01-01\",  end=dt.now())['Close']\n",
    "  new=pd.DataFrame(old)\n",
    "  df[i]=new"
   ]
  },
  {
   "cell_type": "code",
   "execution_count": 50,
   "id": "b2269729",
   "metadata": {},
   "outputs": [],
   "source": [
    "#Calculate the initial invested value(Assuming investment is made today)\n",
    "initial_investment= stocks*df.iloc[-1,:]"
   ]
  },
  {
   "cell_type": "code",
   "execution_count": 51,
   "id": "84b3d909",
   "metadata": {},
   "outputs": [],
   "source": [
    "#Calculate returns\n",
    "returns=df.pct_change()"
   ]
  },
  {
   "cell_type": "code",
   "execution_count": 52,
   "id": "334f4ace",
   "metadata": {},
   "outputs": [],
   "source": [
    "#Extract the correlation matrix \n",
    "corr_matrix = returns.corr()"
   ]
  },
  {
   "cell_type": "code",
   "execution_count": 53,
   "id": "81821585",
   "metadata": {},
   "outputs": [],
   "source": [
    "#Get the standard deviation of returns\n",
    "st_dev=returns.std()"
   ]
  },
  {
   "cell_type": "code",
   "execution_count": 54,
   "id": "d55aa8f1",
   "metadata": {},
   "outputs": [],
   "source": [
    "#Declare the confidence and Total Value-at-Risk variables\n",
    "conf=[]\n",
    "tot_vaRlist=[]"
   ]
  },
  {
   "cell_type": "code",
   "execution_count": 55,
   "id": "25d1ede2",
   "metadata": {},
   "outputs": [],
   "source": [
    "#Run the simulation for calculating VaR for different confidence intervals\n",
    "for i in range(0,2500):\n",
    "  conf+=[75+i/100]\n",
    "  vaR=st.norm.ppf(conf[i]/100)*st_dev*initial_investment*-1\n",
    "  vaRlist=np.array(vaR)\n",
    "  tot_vaR_sq=np.matmul( np.matmul(vaRlist,corr_matrix.to_numpy()) , np.transpose(vaRlist))\n",
    "  tot_vaR=np.sqrt(tot_vaR_sq)\n",
    "  tot_vaRlist+=[tot_vaR]"
   ]
  },
  {
   "cell_type": "code",
   "execution_count": 56,
   "id": "2c3ebd64",
   "metadata": {},
   "outputs": [
    {
     "data": {
      "image/png": "[encoded data removed]",
      "text/plain": [
       "<Figure size 640x480 with 1 Axes>"
      ]
     },
     "metadata": {},
     "output_type": "display_data"
    }
   ],
   "source": [
    "#Plot the VaR against the different confidence intervals\n",
    "plt.scatter(conf, tot_vaRlist)\n",
    "plt.show()"
   ]
  },
  {
   "cell_type": "code",
   "execution_count": null,
   "id": "d133fb9a",
   "metadata": {},
   "outputs": [],
   "source": []
  },
  {
   "cell_type": "code",
   "execution_count": null,
   "id": "bc2a0021",
   "metadata": {},
   "outputs": [],
   "source": []
  }
 ],
 "metadata": {
  "kernelspec": {
   "display_name": "Python 3 (ipykernel)",
   "language": "python",
   "name": "python3"
  },
  "language_info": {
   "codemirror_mode": {
    "name": "ipython",
    "version": 3
   },
   "file_extension": ".py",
   "mimetype": "text/x-python",
   "name": "python",
   "nbconvert_exporter": "python",
   "pygments_lexer": "ipython3",
   "version": "3.10.9"
  }
 },
 "nbformat": 4,
 "nbformat_minor": 5
}
